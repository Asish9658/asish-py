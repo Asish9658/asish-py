{
 "cells": [
  {
   "cell_type": "markdown",
   "id": "735dfb56-6b0e-4d60-8a5d-1883d389aa0c",
   "metadata": {},
   "source": [
    "Q1. Create one variable containing following type of data:"
   ]
  },
  {
   "cell_type": "markdown",
   "id": "296a9452-b53d-4966-888c-075f8a080c29",
   "metadata": {},
   "source": [
    "(i) string"
   ]
  },
  {
   "cell_type": "markdown",
   "id": "edf25a4f-af69-4a24-94c1-ecfc4b9a96e4",
   "metadata": {},
   "source": [
    "a = \"Asish\""
   ]
  },
  {
   "cell_type": "markdown",
   "id": "146e9187-e6eb-4e9b-97cd-3b7b5e267168",
   "metadata": {},
   "source": [
    "(ii) list"
   ]
  },
  {
   "cell_type": "markdown",
   "id": "1905beb0-4514-44bc-a4e7-90946f516871",
   "metadata": {},
   "source": [
    "a = [1, 2, 3, 56, 'asish', True, 45.54, 3+28j]"
   ]
  },
  {
   "cell_type": "markdown",
   "id": "585905f4-5347-465f-a6a6-cd7621745046",
   "metadata": {},
   "source": [
    "(iii) float"
   ]
  },
  {
   "cell_type": "markdown",
   "id": "bf87e75c-3e22-437c-be92-e6230b6dcad9",
   "metadata": {},
   "source": [
    "a = 34.32"
   ]
  },
  {
   "cell_type": "markdown",
   "id": "af41f542-9f52-4007-b6f5-3dba62e55fac",
   "metadata": {},
   "source": [
    "(iv) tuple"
   ]
  },
  {
   "cell_type": "markdown",
   "id": "7f810ece-8179-44fd-ac48-2cc06fd127d9",
   "metadata": {},
   "source": [
    "a = (1, 2, 34, 56, 78, 89.23, \"Asish\", True, 2+4j)"
   ]
  },
  {
   "cell_type": "code",
   "execution_count": null,
   "id": "58ae0891-3019-47b4-aa08-766f12435447",
   "metadata": {},
   "outputs": [],
   "source": []
  },
  {
   "cell_type": "markdown",
   "id": "20943bdf-fda9-4b9d-bb1c-0598212353af",
   "metadata": {},
   "source": [
    "Q2. Given are some following variables containing data:"
   ]
  },
  {
   "cell_type": "markdown",
   "id": "661aad4e-f0d0-427d-b4bd-1cc8eab2dca3",
   "metadata": {},
   "source": [
    "(i) var1 = ‘ ‘"
   ]
  },
  {
   "cell_type": "markdown",
   "id": "28aa0705-903c-4f8f-b5bf-55c43c89aff4",
   "metadata": {},
   "source": [
    "String"
   ]
  },
  {
   "cell_type": "markdown",
   "id": "77561022-e85b-40aa-8337-40e60c7cc642",
   "metadata": {},
   "source": [
    "(ii) var2 = ‘[ DS , ML , Python]’"
   ]
  },
  {
   "cell_type": "markdown",
   "id": "8522f7e7-ae07-4920-8472-0a285325fc35",
   "metadata": {},
   "source": [
    "String"
   ]
  },
  {
   "cell_type": "markdown",
   "id": "23c569c9-944a-4e9b-b700-bf50847e0abf",
   "metadata": {},
   "source": [
    "(iii) var3 = [ ‘DS’ , ’ML’ , ‘Python’ ]"
   ]
  },
  {
   "cell_type": "markdown",
   "id": "ba0e2590-06e5-49dd-bb49-cea57dbf6e12",
   "metadata": {},
   "source": [
    "List"
   ]
  },
  {
   "cell_type": "markdown",
   "id": "f039d141-56ee-498b-b2f0-ef029c5a05bc",
   "metadata": {},
   "source": [
    "(iv) var4 = 1."
   ]
  },
  {
   "cell_type": "markdown",
   "id": "57fc34d1-dfb5-4c32-8699-221cbdf7607f",
   "metadata": {},
   "source": [
    "Intiger"
   ]
  },
  {
   "cell_type": "code",
   "execution_count": null,
   "id": "182e3ea2-bfcd-4d70-a62e-edaffc518fe8",
   "metadata": {},
   "outputs": [],
   "source": []
  },
  {
   "cell_type": "markdown",
   "id": "fb7f7cd3-b335-4db0-9439-a0019a99db2d",
   "metadata": {},
   "source": [
    "Q3. Explain the use of the following operators using an example:"
   ]
  },
  {
   "cell_type": "markdown",
   "id": "6e2ab938-9da6-4f82-8f17-9b0af535c166",
   "metadata": {},
   "source": [
    "(i) /"
   ]
  },
  {
   "cell_type": "code",
   "execution_count": 24,
   "id": "1f268962-a1c0-4151-8444-ef90692f8032",
   "metadata": {},
   "outputs": [
    {
     "data": {
      "text/plain": [
       "4.0"
      ]
     },
     "execution_count": 24,
     "metadata": {},
     "output_type": "execute_result"
    }
   ],
   "source": [
    "# '/' operators is an arithmatic operators and is used to devide two intigers or floats\n",
    "8/2"
   ]
  },
  {
   "cell_type": "markdown",
   "id": "0c4829a5-06e4-42b8-a8c9-ae48b443e80d",
   "metadata": {},
   "source": [
    "(ii) %"
   ]
  },
  {
   "cell_type": "code",
   "execution_count": 25,
   "id": "06ce08db-88bf-4162-be94-53c56e36fce6",
   "metadata": {},
   "outputs": [
    {
     "data": {
      "text/plain": [
       "1"
      ]
     },
     "execution_count": 25,
     "metadata": {},
     "output_type": "execute_result"
    }
   ],
   "source": [
    "# '%' operator is an arithmatic operator and is used to get a remainder of a division\n",
    "9%2"
   ]
  },
  {
   "cell_type": "markdown",
   "id": "81a6f94d-1136-4739-b621-5562220d3fa4",
   "metadata": {},
   "source": [
    "(iii) //"
   ]
  },
  {
   "cell_type": "code",
   "execution_count": 26,
   "id": "8af80a48-1919-46a5-a6da-6697c822c73c",
   "metadata": {},
   "outputs": [
    {
     "data": {
      "text/plain": [
       "4"
      ]
     },
     "execution_count": 26,
     "metadata": {},
     "output_type": "execute_result"
    }
   ],
   "source": [
    "# '//' operator is an arithmatic operator and is used to Floor division is an operation in Python that allows us to divide two numbers and rounds the resultant value down to the nearest integer.\n",
    "9//2"
   ]
  },
  {
   "cell_type": "markdown",
   "id": "2a3fa139-4756-48bc-8a4f-aa5d5f65bdf8",
   "metadata": {},
   "source": [
    "(iv) **"
   ]
  },
  {
   "cell_type": "code",
   "execution_count": 27,
   "id": "e7fa0920-8a9b-4339-855a-a5151b443324",
   "metadata": {},
   "outputs": [
    {
     "data": {
      "text/plain": [
       "8"
      ]
     },
     "execution_count": 27,
     "metadata": {},
     "output_type": "execute_result"
    }
   ],
   "source": [
    "# '**' operator is an arithmatic intiger and is used to get the  perform the exponent arithmetic.\n",
    "2**3"
   ]
  },
  {
   "cell_type": "markdown",
   "id": "52e37f3d-eb4b-4517-9070-8e03bcf7746c",
   "metadata": {},
   "source": []
  },
  {
   "cell_type": "markdown",
   "id": "bb5c8264-405b-44fa-9770-f30d7674cf89",
   "metadata": {},
   "source": [
    "Q4. Create a list of length 10 of your choice containing multiple types of data. Using for loop print the\n",
    "element and its data type."
   ]
  },
  {
   "cell_type": "code",
   "execution_count": 31,
   "id": "716c0e81-623e-4d72-ae07-80901919fc1c",
   "metadata": {},
   "outputs": [
    {
     "name": "stdout",
     "output_type": "stream",
     "text": [
      "23\n",
      "<class 'int'>\n",
      "24\n",
      "<class 'int'>\n",
      "24.34\n",
      "<class 'float'>\n",
      "Asish\n",
      "<class 'str'>\n",
      "True\n",
      "<class 'bool'>\n",
      "56\n",
      "<class 'int'>\n",
      "-89\n",
      "<class 'int'>\n",
      "(2+8j)\n",
      "<class 'complex'>\n",
      "Moharana\n",
      "<class 'str'>\n"
     ]
    }
   ],
   "source": [
    "a = [23, 24, 24.34, 'Asish', True, 56, -89, 2+8j, 'Moharana']\n",
    "for i in a :\n",
    "    print(i)\n",
    "    print(type(i))"
   ]
  },
  {
   "cell_type": "markdown",
   "id": "46635d05-c9a8-4e9a-9d07-7b37f83cffcf",
   "metadata": {},
   "source": [
    "Q5. Using a while loop, verify if the number A is purely divisible by number B and if so then how many\n",
    "times it can be divisible."
   ]
  },
  {
   "cell_type": "code",
   "execution_count": null,
   "id": "630a0597-af8d-483e-b9fc-a355fddb01e7",
   "metadata": {},
   "outputs": [],
   "source": []
  }
 ],
 "metadata": {
  "kernelspec": {
   "display_name": "Python 3 (ipykernel)",
   "language": "python",
   "name": "python3"
  },
  "language_info": {
   "codemirror_mode": {
    "name": "ipython",
    "version": 3
   },
   "file_extension": ".py",
   "mimetype": "text/x-python",
   "name": "python",
   "nbconvert_exporter": "python",
   "pygments_lexer": "ipython3",
   "version": "3.11.4"
  }
 },
 "nbformat": 4,
 "nbformat_minor": 5
}
